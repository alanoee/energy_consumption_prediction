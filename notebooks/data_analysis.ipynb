{
 "cells": [
  {
   "cell_type": "code",
   "execution_count": null,
   "metadata": {},
   "outputs": [],
   "source": [
    "# Data analysis - Exploratory data analysis (EDA)\n",
    "import pandas as pd\n",
    "import matplotlib.pyplot as plt\n",
    "\n",
    "# Wczytanie danych\n",
    "data = pd.read_csv('data/energy_consumption.csv', parse_dates=['Date'])\n",
    "\n",
    "# Analiza danych\n",
    "print(data.describe())\n",
    "\n",
    "# Wizualizacja zużycia energii\n",
    "plt.figure(figsize=(10, 6))\n",
    "plt.plot(data['Date'], data['Reading'], marker='o', color='b', label='Zużycie energii')\n",
    "plt.title('Zużycie energii w czasie')\n",
    "plt.xlabel('Data')\n",
    "plt.ylabel('Zużycie energii (kWh)')\n",
    "plt.grid(True)\n",
    "plt.xticks(rotation=45)\n",
    "plt.tight_layout()\n",
    "plt.legend()\n",
    "plt.show()\n"
   ]
  }
 ],
 "metadata": {
  "kernelspec": {
   "display_name": "Python3.12-venv",
   "language": "python",
   "name": "python3"
  },
  "language_info": {
   "name": "python",
   "version": "3.12.7"
  }
 },
 "nbformat": 4,
 "nbformat_minor": 2
}
