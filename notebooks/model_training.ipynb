{
 "cells": [
  {
   "cell_type": "code",
   "execution_count": null,
   "metadata": {},
   "outputs": [],
   "source": [
    "# Model training - Train the model and make predictions\n",
    "from src.model import train_model, predict_energy_consumption\n",
    "from src.data_processing import process_data\n",
    "import pandas as pd\n",
    "\n",
    "# Wczytanie danych\n",
    "data = pd.read_csv('data/energy_consumption.csv', parse_dates=['Date'])\n",
    "\n",
    "# Przetwarzanie danych\n",
    "processed_data = process_data(data)\n",
    "\n",
    "# Trenowanie modelu\n",
    "model = train_model(processed_data)\n",
    "\n",
    "# Przewidywanie zużycia energii dla przyszłych dni\n",
    "import numpy as np\n",
    "future_dates = pd.date_range(start=processed_data['Date'].max() + pd.Timedelta(days=1), periods=30, freq='D')\n",
    "predictions = predict_energy_consumption(model, future_dates)\n",
    "\n",
    "# Wyświetlanie prognoz\n",
    "print(f\"Prognozowane zużycie energii: {predictions}\")\n"
   ]
  }
 ],
 "metadata": {
  "kernelspec": {
   "display_name": "Python3.12-venv",
   "language": "python",
   "name": "python3"
  },
  "language_info": {
   "name": "python",
   "version": "3.12.7"
  }
 },
 "nbformat": 4,
 "nbformat_minor": 2
}
